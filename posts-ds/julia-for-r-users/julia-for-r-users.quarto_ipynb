{
  "cells": [
    {
      "cell_type": "markdown",
      "metadata": {},
      "source": [
        "# Julia for R users\n",
        "\n",
        "> I know a lot of R and can do my daily job with it. Why should I learn Julia?\n",
        "\n",
        "In my case, I was looking for some adventure. Haskell seemed too hard, Python too normal. So I went on a journey to learn Julia and was very happy with what I discovered.\n",
        "\n",
        "I love R, it is my breadwinner (and has been for the past 6 years), and I know some of its limitations. So below is a (biased) list of features that may interest you in trying Julia:\n",
        "\n",
        "## You can run R inside of Julia\n",
        "\n",
        "Not sure where to begin in Julia? Start with R!"
      ],
      "id": "eca2d3c3"
    },
    {
      "cell_type": "code",
      "metadata": {},
      "source": [
        "using RCall;\n",
        "\n",
        "R\"\"\"\n",
        "median(1:5)\n",
        "\"\"\""
      ],
      "id": "bdaeb7e8",
      "execution_count": null,
      "outputs": []
    },
    {
      "cell_type": "markdown",
      "metadata": {},
      "source": [
        "You can even pass objects from Julia to R:"
      ],
      "id": "61311ada"
    },
    {
      "cell_type": "code",
      "metadata": {},
      "source": [
        "x = [1:5;]\n",
        "\n",
        "@rput x\n",
        "\n",
        "R\"median(x)\""
      ],
      "id": "0c8ea66e",
      "execution_count": null,
      "outputs": []
    },
    {
      "cell_type": "markdown",
      "metadata": {},
      "source": [
        "This quarto notebook is actually run using RCall! See [RCall docs](https://juliainterop.github.io/RCall.jl/stable/gettingstarted/) for more details.\n",
        "\n",
        "You can see some differences between R and Julia [here](https://docs.julialang.org/en/v1/manual/noteworthy-differences/#Noteworthy-differences-from-R).\n",
        "\n",
        "## There is a tidyverse in Julia and it is awesome\n",
        "\n",
        "[Tidier.jl](https://tidierorg.github.io/Tidier.jl/dev/) is a data analysis package inspired by R's tidyverse and crafted specifically for Julia. It is made with the macro magic described below. Behind the scenes, it is transformed in usual `Dataframes.jl` code.\n",
        "\n",
        "![Why not recreate an entire ecosystem using macros?](images/tidier.png)\n",
        "\n",
        "Here's an example from TidierData docs:"
      ],
      "id": "405fc480"
    },
    {
      "cell_type": "code",
      "metadata": {},
      "source": [
        "#| eval: false\n",
        "using TidierData\n",
        "using RDatasets\n",
        "\n",
        "movies = dataset(\"ggplot2\", \"movies\");\n",
        "\n",
        "@chain movies begin\n",
        "    @mutate(Budget = Budget / 1_000_000)\n",
        "    @filter(Budget >= mean(skipmissing(Budget)))\n",
        "    @select(Title, Budget)\n",
        "    @slice(1:5)\n",
        "end"
      ],
      "id": "77b288d9",
      "execution_count": null,
      "outputs": []
    },
    {
      "cell_type": "markdown",
      "metadata": {},
      "source": [
        "It looks like `dplyr` code with `@`s.\n",
        "\n",
        "## Fast Julia code is written in Julia; fast R code is not written in R\n",
        "\n",
        "In R, whenever you need some *really* fast code (as fast as you would get in C), you have to use C or Fortran code. R is simply slow. If you need speed in R, you will have to find a package that already implements what you need or learn C/Fortran, use RCpp and pray.\n",
        "\n",
        "![`stringi` package sourcecode.](images/stringi-code.png)\n",
        "\n",
        "In Julia, you won't need other language to get speed close to C. That's way they say that Julia [solves the two language problem](https://juliadatascience.io/julia_accomplish#sec:two_language). Julia packages are almost always 100% Julia, which means that you can look to its sourcecode and learn a lot.\n",
        "\n",
        "![Images that make you cry: the deep learning package [Flux.jl](https://github.com/FluxML/Flux.jl).](images/flux.png)\n",
        "\n",
        "This is specially interesting if you read Julia Base sourcecode! How does Julia define the maximum of a vector? Type"
      ],
      "id": "a6656405"
    },
    {
      "cell_type": "code",
      "metadata": {},
      "source": [
        "#| eval: false\n",
        "\n",
        "@edit maximum([1:5;])"
      ],
      "id": "e20f73df",
      "execution_count": null,
      "outputs": []
    },
    {
      "cell_type": "markdown",
      "metadata": {},
      "source": [
        "and you will see this:\n",
        "\n",
        "![The sourcecode of the function maximum applied to a vector.](images/maximum-sourcecode.png)\n",
        "\n",
        "It takes some time to grasp the meaning, but in the end it says \"apply a mapreduce into the vector, using the max function on each pair of numbers\". In R, the sourcecode is a sad `.Primitive(\"max\")`.\n",
        "\n",
        "\n",
        "## No need to vectorize code; loops, maps and broadcast are fast enough\n",
        "\n",
        "Tired of writing loops? Julia has a special notation `.` (yes, a dot) to apply *any* function to a vector/array/iterable-object; this is called [*broadcasting*](https://docs.julialang.org/en/v1/manual/arrays/#Broadcasting). For example, you can apply the `power2` function in a vector as easy as"
      ],
      "id": "9fcb7f94"
    },
    {
      "cell_type": "code",
      "metadata": {},
      "source": [
        "#julia\n",
        "# define power2 for numbers\n",
        "power2(x) = x^2;\n",
        "\n",
        "# apply in vectors\n",
        "power2.(1:10)"
      ],
      "id": "697afb0e",
      "execution_count": null,
      "outputs": []
    },
    {
      "cell_type": "markdown",
      "metadata": {},
      "source": [
        "or in a matrix"
      ],
      "id": "b24d492d"
    },
    {
      "cell_type": "code",
      "metadata": {},
      "source": [
        "#julia\n",
        "X = reshape([1:16;], (4, 4))"
      ],
      "id": "1ec0880e",
      "execution_count": null,
      "outputs": []
    },
    {
      "cell_type": "code",
      "metadata": {},
      "source": [
        "#julia\n",
        "power2.(X)"
      ],
      "id": "08441de7",
      "execution_count": null,
      "outputs": []
    },
    {
      "cell_type": "markdown",
      "metadata": {},
      "source": [
        "When using infix functions like `+` or `=`, you put the dot before the operator, as in"
      ],
      "id": "ce7f7fa7"
    },
    {
      "cell_type": "code",
      "metadata": {},
      "source": [
        "#julia\n",
        "[1:5;] .+ 10"
      ],
      "id": "c0809bd9",
      "execution_count": null,
      "outputs": []
    },
    {
      "cell_type": "markdown",
      "metadata": {},
      "source": [
        "In R, you always try to avoid loops because they are *slow*. Suppose you have a vector and want to sum 1 to every entry. As an experienced R programmer, you look for a vectorized approach:\n",
        "\n",
        "```r\n",
        "# R\n",
        "f1_vec = function(x) {\n",
        "    y = x + 1\n",
        "}\n",
        "```\n",
        "\n",
        "instead of a loop\n",
        "\n",
        "```r\n",
        "# R\n",
        "f1_loop = function(x) {\n",
        "    y = x\n",
        "    for (i in seq_along(x)) y[i] = x[i] + 1\n",
        "    y\n",
        "}\n",
        "```\n",
        "\n",
        "or a even a `purrr::map` approach (if you are in a functional programming mood)\n",
        "\n",
        "```r\n",
        "#R\n",
        "f1_map = function(x) {\n",
        "    purrr::map_dbl(x, \\(xi) xi + 1)\n",
        "}\n",
        "```\n",
        "\n",
        "because the first options is faster. We can see the difference:\n",
        "\n",
        "```r\n",
        "# R\n",
        "x = 1:100000\n",
        "\n",
        "bench::mark(\n",
        "    f1_vec(x)\n",
        "    ,f1_loop(x)\n",
        "    ,f1_map(x)\n",
        "    ,relative = TRUE\n",
        ")\n",
        "```"
      ],
      "id": "2d46e3d0"
    },
    {
      "cell_type": "code",
      "metadata": {},
      "source": [
        "#| warning: false\n",
        "#| echo: false\n",
        "#R\n",
        "R\"\"\"\n",
        "f1_vec = function(x) {\n",
        "    y = x + 1\n",
        "}\n",
        "\n",
        "f1_loop = function(x) {\n",
        "    y = x\n",
        "    for (i in seq_along(x)) y[i] = x[i] + 1\n",
        "    y\n",
        "}\n",
        "\n",
        "f1_map = function(x) {\n",
        "    purrr::map_dbl(x, \\(xi) xi + 1)\n",
        "}\n",
        "\n",
        "x = 1:100000\n",
        "\n",
        "bench::mark(\n",
        "    f1_vec(x)\n",
        "    ,f1_loop(x)\n",
        "    ,f1_map(x)\n",
        "    ,relative = TRUE\n",
        ")\n",
        "\"\"\""
      ],
      "id": "843c9a8c",
      "execution_count": null,
      "outputs": []
    },
    {
      "cell_type": "markdown",
      "metadata": {},
      "source": [
        "In my machine, the loop is ~12x slower and the map ~145x slower than the vectorized version.\n",
        "\n",
        "The biggest problem for an R user is when the function you want to apply have no vectorized form. I usually have to make some kludges^[or [gambiarras](https://pt.wikipedia.org/wiki/Gambiarra), in Brasileirês] with dplyr verbs to do something that is much more logical when written with a loop/map.\n",
        "\n",
        "In Julia, the three approachs are similar:"
      ],
      "id": "cb1ebbae"
    },
    {
      "cell_type": "code",
      "metadata": {},
      "source": [
        "#julia\n",
        "f1_vec(x) = x .+ 1;\n",
        "\n",
        "function f1_loop(x)\n",
        "    y = similar(x)\n",
        "    @inbounds for i ∈ eachindex(x) y[i] = x[i] + 1 end\n",
        "    y\n",
        "end;\n",
        "\n",
        "function f1_map(x)\n",
        "    map(x) do xi\n",
        "        xi + 1 \n",
        "    end\n",
        "end;"
      ],
      "id": "8ee94970",
      "execution_count": null,
      "outputs": []
    },
    {
      "cell_type": "code",
      "metadata": {},
      "source": [
        "#| eval: false\n",
        "#julia\n",
        "using BenchmarkTools;\n",
        "x = [1:100000;];\n",
        "\n",
        "@benchmark f1_vec($x)"
      ],
      "id": "463c641b",
      "execution_count": null,
      "outputs": []
    },
    {
      "cell_type": "code",
      "metadata": {},
      "source": [
        "#| eval: false\n",
        "#julia\n",
        "@benchmark f1_loop($x)"
      ],
      "id": "305f71a5",
      "execution_count": null,
      "outputs": []
    },
    {
      "cell_type": "code",
      "metadata": {},
      "source": [
        "#| eval: false\n",
        "#julia\n",
        "@benchmark f1_map($x)"
      ],
      "id": "11874749",
      "execution_count": null,
      "outputs": []
    },
    {
      "cell_type": "markdown",
      "metadata": {},
      "source": [
        "This means that in Julia it is usual to *define a function using a scalar type* (a Number like Float64/Int or a String) *and then use broadcast* to apply the function to vectors/matrices/etc. No need to create vectorized forms of functions anymore!\n",
        "\n",
        "## The compiler is your friend\n",
        "\n",
        "Sometimes you write code that won't make your parents proud. Suppose you create a function that sums all the numbers from 1 to a given `n`:"
      ],
      "id": "d96891ff"
    },
    {
      "cell_type": "code",
      "metadata": {},
      "source": [
        "function f_sum(n)\n",
        "    s = 0\n",
        "    for i in 1:n\n",
        "        s += i\n",
        "    end\n",
        "\n",
        "    s\n",
        "end;"
      ],
      "id": "6f34806e",
      "execution_count": null,
      "outputs": []
    },
    {
      "cell_type": "markdown",
      "metadata": {},
      "source": [
        "In R, the language will obediently execute each iteration of the loop, as you demanded, and it will take forever. You are the boss.\n",
        "\n",
        "But in Julia, we have this curious phenomena:"
      ],
      "id": "00367b5d"
    },
    {
      "cell_type": "code",
      "metadata": {},
      "source": [
        "@time f_sum(100)"
      ],
      "id": "06d0d769",
      "execution_count": null,
      "outputs": []
    },
    {
      "cell_type": "code",
      "metadata": {},
      "source": [
        "@time f_sum(100_000)"
      ],
      "id": "67e23fbd",
      "execution_count": null,
      "outputs": []
    },
    {
      "cell_type": "code",
      "metadata": {},
      "source": [
        "@time f_sum(100_000_000)"
      ],
      "id": "39d271d1",
      "execution_count": null,
      "outputs": []
    },
    {
      "cell_type": "markdown",
      "metadata": {},
      "source": [
        "How is it possible that it took the same time to run 100 iterations and 100 million iterations? The magic is the compiler: it understood that what you are doing is the sum of the terms of an [arithmetic progression](https://en.wikipedia.org/wiki/Arithmetic_progression). The legend says that Gauss deduced the formula for its sum, and the compiler did the same for you. No need to be as smart as Gauss while using Julia.\n",
        "\n",
        "Julia is a [just-in-time (JIT) compiled language](https://docs.julialang.org/en/v1/devdocs/aot/), which means that each function is compiled when you first execute it. The \"time to first compile\" was a problem in the past, but from Julia 1.8 onwards it is not a big deal. The compiler is your friend, and almost always you can trust him.\n",
        "\n",
        "\n",
        "## Multiple dispatch and type system\n",
        "\n",
        "A type system is a way to organize data types within an hierarchy. Think of it as mathematical sets: you have the real numbers, and inside it are the rationals, the integers, the naturals, etc. Each one of these types store data into memory in a different manner (integers can be stored more efficiently than arbitrary real numbers, for example). Julia has a really nice [type system](https://docs.julialang.org/en/v1/manual/types/). Let's see some examples to better understand it.\n",
        "\n",
        "Consider the `print` function in R. It is a *generic* function, which means that its behaviour depends on the class/type of its first argument. This can be seen when we look to its misterious source code:\n",
        "\n",
        "![The `print` function sourcecode.](images/print-code.png)\n",
        "\n",
        "which means that `print` will use several `methods` (implementations/pieces-of-code), one for each class/type. Actually, R just creates a different function for each class, with the pattern `{function}.{class}`: \n",
        "\n",
        "![Each method/implementation of the generic function `print`.](images/print-methods.png)\n",
        "\n",
        "In Julia, *every function is generic*. We can use the same function name and define different behaviours/implementations for each combination of classes/types of its arguments. We saw above the implementation of the `maximum` function in Julia for an arbitrary vector of numbers. But what if the vector is of a different kind, for which it is easier to determine its maximum?\n",
        "\n",
        "Take, for example, the object"
      ],
      "id": "91b2094e"
    },
    {
      "cell_type": "code",
      "metadata": {},
      "source": [
        "x = 1:10"
      ],
      "id": "834bef5c",
      "execution_count": null,
      "outputs": []
    },
    {
      "cell_type": "markdown",
      "metadata": {},
      "source": [
        "It is *not* a vector (to create a usual vector from 1 to 10, you type `[1:10;]`). Actually, its type is"
      ],
      "id": "cf696864"
    },
    {
      "cell_type": "code",
      "metadata": {},
      "source": [
        "typeof(x)"
      ],
      "id": "c54055f6",
      "execution_count": null,
      "outputs": []
    },
    {
      "cell_type": "markdown",
      "metadata": {},
      "source": [
        "and its type hierarchy is"
      ],
      "id": "2949425e"
    },
    {
      "cell_type": "code",
      "metadata": {},
      "source": [
        "Base.show_supertypes(typeof(x))"
      ],
      "id": "e94ee52c",
      "execution_count": null,
      "outputs": []
    },
    {
      "cell_type": "markdown",
      "metadata": {},
      "source": [
        "So `x` is a much simpler object than a vector: it is an increasing sequence of integer numbers, each 1 unity bigger than the previous one. It makes sense then that the `maximum` function can be defined much more simpler for an object of type `UnitRange{Int64}`: the biggest element is always the last.\n",
        "\n",
        "If you look at the sourcecode"
      ],
      "id": "767c044c"
    },
    {
      "cell_type": "code",
      "metadata": {},
      "source": [
        "#| eval: false\n",
        "@edit maximum(1:10)"
      ],
      "id": "0317cfc7",
      "execution_count": null,
      "outputs": []
    },
    {
      "cell_type": "markdown",
      "metadata": {},
      "source": [
        "you will get"
      ],
      "id": "904d9c5c"
    },
    {
      "cell_type": "code",
      "metadata": {},
      "source": [
        "#| eval: false\n",
        "maximum(r::AbstractUnitRange) = isempty(r) ? throw(ArgumentError(\"range must be non-empty\")) : last(r)"
      ],
      "id": "008b2250",
      "execution_count": null,
      "outputs": []
    },
    {
      "cell_type": "markdown",
      "metadata": {},
      "source": [
        "which is exactly what we thought: \n",
        "\n",
        "> is the range non-empty? Then take de last element; otherwise, an error.\n",
        "\n",
        "The function `last` is defined for every children of type `AbstractUnitRange`, and so `maximum` is well defined.\n",
        "\n",
        "In summary: Julia has an arbitrary `maximum` function for arbitrary vectors, but has specialized methods for some other specific types. This is a common pattern in Julia, and much of its performance depends on this. \n",
        "\n",
        "\n",
        "## Macros rewrite code without typing\n",
        "\n",
        "[Macros](https://docs.julialang.org/en/v1/manual/metaprogramming/) are one of the most powerful tools in Julia. They rewrite your code before executing it: it is a metaprogramming technique. When creating macros, you will have to understand how a bunch of characters are interpreted by the language and executed as code. This means that macros can rewrite pieces of code and add functionalities that are not possible simply with functions.\n",
        "\n",
        "We already used some macros on this notebook; they all start with the `@` symbol. \n",
        "\n",
        "How much time does it take to calculate the sin of a million numbers?"
      ],
      "id": "62dabbcc"
    },
    {
      "cell_type": "code",
      "metadata": {},
      "source": [
        "@time sin.(1:1_000_000);"
      ],
      "id": "cf936165",
      "execution_count": null,
      "outputs": []
    },
    {
      "cell_type": "markdown",
      "metadata": {},
      "source": [
        "Do you have a loop and want to see a progress bar? No need to change the code inside the loop:"
      ],
      "id": "d5500b7a"
    },
    {
      "cell_type": "code",
      "metadata": {},
      "source": [
        "using ProgressMeter;\n",
        "\n",
        "@showprogress for i in 1:10\n",
        "    sleep(0.1)\n",
        "end"
      ],
      "id": "bf30e11a",
      "execution_count": null,
      "outputs": []
    },
    {
      "cell_type": "markdown",
      "metadata": {},
      "source": [
        "As we've seen, even the tidyverse could be recreated in Julia using macros!\n",
        "\n",
        "\n",
        "## Multithreading is trivial\n",
        "\n",
        "[Multithreading](https://docs.julialang.org/en/v1/manual/multi-threading/) is when your code uses more than one processor at the same time. Multithreading in R is a bit complicated and actually create copies of the R process that comunicates with the main process. There is a [`futureverse`](https://www.futureverse.org/packages-overview.html) to deal with that in R.\n",
        "\n",
        "In Julia, multithreading is as easy as appending a macro before a loop:"
      ],
      "id": "ecc0e26c"
    },
    {
      "cell_type": "code",
      "metadata": {},
      "source": [
        "#| eval: false\n",
        "Threads.@threads for i = 1:10\n",
        "    a[i] = Threads.threadid()\n",
        "end"
      ],
      "id": "6c7c7e5a",
      "execution_count": null,
      "outputs": []
    },
    {
      "cell_type": "markdown",
      "metadata": {},
      "source": [
        "Want a multithread version of `map` and `reduce` and so on? Check [ThreadsX.jl](https://github.com/tkf/ThreadsX.jl). And that's it.\n",
        "\n",
        "## Modules and packages are a joy to use\n",
        "\n",
        "In R, you have 2 options to call a function from another package:\n",
        "\n",
        "- use `library(PACKAGE)` and then import *every* function from PACKAGE to your namespace;\n",
        "- use `PACKAGE::FUNCTION` every time you want to use a function.\n",
        "\n",
        "Packages like [`box`](https://klmr.me/box/) are a more \"Pythonesque\" approach to importing libraries.\n",
        "\n",
        "In Julia, you have all these for free:\n",
        "\n",
        "- a\n",
        "- b\n",
        "- c\n",
        "\n",
        "There is also the possibility to create modules inside modules (which are like packages inside packages). For example, if you have a package to train machine learning models, you can have a module about Metrics, another one with Models and so on. Importing then can be done with\n"
      ],
      "id": "58f9457a"
    },
    {
      "cell_type": "code",
      "metadata": {},
      "source": [
        "#| eval: false\n",
        "\n",
        "using MyPackage.Metrics\n",
        "\n",
        "# or\n",
        "import MyPackage.Models as MD\n",
        "\n",
        "MD.model1(etc)"
      ],
      "id": "b244e16b",
      "execution_count": null,
      "outputs": []
    },
    {
      "cell_type": "markdown",
      "metadata": {},
      "source": [
        "## Math symbols for the math enthusiasts\n",
        "\n",
        "Examples of correct Julia code:"
      ],
      "id": "102f01ae"
    },
    {
      "cell_type": "code",
      "metadata": {},
      "source": [
        "[1, 2] ∩ [2, 3]"
      ],
      "id": "4a981306",
      "execution_count": null,
      "outputs": []
    },
    {
      "cell_type": "code",
      "metadata": {},
      "source": [
        "2 ∈ [2, 3]"
      ],
      "id": "31225883",
      "execution_count": null,
      "outputs": []
    },
    {
      "cell_type": "code",
      "metadata": {},
      "source": [
        "f(r) = π*r^2\n",
        "\n",
        "f(3)"
      ],
      "id": "97cec163",
      "execution_count": null,
      "outputs": []
    },
    {
      "cell_type": "code",
      "metadata": {},
      "source": [
        "# Euler's identity\n",
        "ℯ^(im * π) + 1 |> round"
      ],
      "id": "5e66af14",
      "execution_count": null,
      "outputs": []
    }
  ],
  "metadata": {
    "kernelspec": {
      "name": "julia-1.10",
      "language": "julia",
      "display_name": "Julia 1.10.8",
      "path": "/home/vituri/snap/code/181/.local/share/jupyter/kernels/julia-1.10"
    }
  },
  "nbformat": 4,
  "nbformat_minor": 5
}