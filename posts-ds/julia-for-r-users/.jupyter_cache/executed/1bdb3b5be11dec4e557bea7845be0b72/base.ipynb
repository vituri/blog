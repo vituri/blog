{
 "cells": [
  {
   "cell_type": "code",
   "execution_count": 1,
   "id": "ca8768a9",
   "metadata": {},
   "outputs": [],
   "source": [
    "import IJulia\n",
    "import Base64\n",
    "\n",
    "# The julia kernel has built in support for Revise.jl, so this is the \n",
    "# recommended approach for long-running sessions:\n",
    "# https://github.com/JuliaLang/IJulia.jl/blob/9b10fa9b879574bbf720f5285029e07758e50a5e/src/kernel.jl#L46-L51\n",
    "\n",
    "# Users should enable revise within .julia/config/startup_ijulia.jl:\n",
    "# https://timholy.github.io/Revise.jl/stable/config/#Using-Revise-automatically-within-Jupyter/IJulia-1\n",
    "\n",
    "# clear console history\n",
    "IJulia.clear_history()\n",
    "\n",
    "fig_width = 5.5\n",
    "fig_height = 3.5\n",
    "fig_format = :pdf\n",
    "fig_dpi = 300\n",
    "\n",
    "# no retina format type, use svg for high quality type/marks\n",
    "if fig_format == :retina\n",
    "  fig_format = :svg\n",
    "elseif fig_format == :pdf\n",
    "  fig_dpi = 96\n",
    "  # Enable PDF support for IJulia\n",
    "  IJulia.register_mime(MIME(\"application/pdf\"))\n",
    "end\n",
    "\n",
    "# convert inches to pixels\n",
    "fig_width = fig_width * fig_dpi\n",
    "fig_height = fig_height * fig_dpi\n",
    "\n",
    "# Intialize Plots w/ default fig width/height\n",
    "try\n",
    "  import Plots\n",
    "\n",
    "  # Plots.jl doesn't support PDF output for versions < 1.28.1\n",
    "  # so use png (if the DPI remains the default of 300 then set to 96)\n",
    "  if (Plots._current_plots_version < v\"1.28.1\") & (fig_format == :pdf)\n",
    "    Plots.gr(size=(fig_width, fig_height), fmt = :png, dpi = fig_dpi)\n",
    "  else\n",
    "    Plots.gr(size=(fig_width, fig_height), fmt = fig_format, dpi = fig_dpi)\n",
    "  end\n",
    "catch e\n",
    "  # @warn \"Plots init\" exception=(e, catch_backtrace())\n",
    "end\n",
    "\n",
    "# Initialize CairoMakie with default fig width/height\n",
    "try\n",
    "  import CairoMakie\n",
    "\n",
    "  # CairoMakie's display() in PDF format opens an interactive window\n",
    "  # instead of saving to the ipynb file, so we don't do that.\n",
    "  # https://github.com/quarto-dev/quarto-cli/issues/7548\n",
    "  if fig_format == :pdf\n",
    "    CairoMakie.activate!(type = \"png\")\n",
    "  else\n",
    "    CairoMakie.activate!(type = string(fig_format))\n",
    "  end\n",
    "  CairoMakie.update_theme!(resolution=(fig_width, fig_height))\n",
    "catch e\n",
    "    # @warn \"CairoMakie init\" exception=(e, catch_backtrace())\n",
    "end\n",
    "  \n",
    "# Set run_path if specified\n",
    "try\n",
    "  run_path = \"L2hvbWUvdml0dXJpL0RvY3VtZW50b3MvR2l0SHViL2Jsb2cvcG9zdHMtZHMvanVsaWEtZm9yLXItdXNlcnM=\"\n",
    "  if !isempty(run_path)\n",
    "    run_path = String(Base64.base64decode(run_path))\n",
    "    cd(run_path)\n",
    "  end\n",
    "catch e\n",
    "  @warn \"Run path init:\" exception=(e, catch_backtrace())\n",
    "end\n",
    "\n",
    "\n",
    "# emulate old Pkg.installed beahvior, see\n",
    "# https://discourse.julialang.org/t/how-to-use-pkg-dependencies-instead-of-pkg-installed/36416/9\n",
    "import Pkg\n",
    "function isinstalled(pkg::String)\n",
    "  any(x -> x.name == pkg && x.is_direct_dep, values(Pkg.dependencies()))\n",
    "end\n",
    "\n",
    "# ojs_define\n",
    "if isinstalled(\"JSON\") && isinstalled(\"DataFrames\")\n",
    "  import JSON, DataFrames\n",
    "  global function ojs_define(; kwargs...)\n",
    "    convert(x) = x\n",
    "    convert(x::DataFrames.AbstractDataFrame) = Tables.rows(x)\n",
    "    content = Dict(\"contents\" => [Dict(\"name\" => k, \"value\" => convert(v)) for (k, v) in kwargs])\n",
    "    tag = \"<script type='ojs-define'>$(JSON.json(content))</script>\"\n",
    "    IJulia.display(MIME(\"text/html\"), tag)\n",
    "  end\n",
    "elseif isinstalled(\"JSON\")\n",
    "  import JSON\n",
    "  global function ojs_define(; kwargs...)\n",
    "    content = Dict(\"contents\" => [Dict(\"name\" => k, \"value\" => v) for (k, v) in kwargs])\n",
    "    tag = \"<script type='ojs-define'>$(JSON.json(content))</script>\"\n",
    "    IJulia.display(MIME(\"text/html\"), tag)\n",
    "  end\n",
    "else\n",
    "  global function ojs_define(; kwargs...)\n",
    "    @warn \"JSON package not available. Please install the JSON.jl package to use ojs_define.\"\n",
    "  end\n",
    "end\n",
    "\n",
    "\n",
    "# don't return kernel dependencies (b/c Revise should take care of dependencies)\n",
    "nothing\n"
   ]
  },
  {
   "cell_type": "code",
   "execution_count": 2,
   "id": "3d75a5c9",
   "metadata": {},
   "outputs": [],
   "source": [
    "#| eval: false\n",
    "\n",
    "@edit maximum([1:5;])"
   ]
  },
  {
   "cell_type": "code",
   "execution_count": 3,
   "id": "e9d56c58",
   "metadata": {},
   "outputs": [
    {
     "data": {
      "text/plain": [
       "10-element Vector{Int64}:\n",
       "   1\n",
       "   4\n",
       "   9\n",
       "  16\n",
       "  25\n",
       "  36\n",
       "  49\n",
       "  64\n",
       "  81\n",
       " 100"
      ]
     },
     "execution_count": 29,
     "metadata": {},
     "output_type": "execute_result"
    }
   ],
   "source": [
    "#julia\n",
    "# define power2 for numbers\n",
    "power2(x) = x^2;\n",
    "\n",
    "# apply in vectors\n",
    "power2.(1:10)"
   ]
  },
  {
   "cell_type": "code",
   "execution_count": 4,
   "id": "3f9a6806",
   "metadata": {},
   "outputs": [
    {
     "data": {
      "text/plain": [
       "4×4 Matrix{Int64}:\n",
       " 1  5   9  13\n",
       " 2  6  10  14\n",
       " 3  7  11  15\n",
       " 4  8  12  16"
      ]
     },
     "execution_count": 30,
     "metadata": {},
     "output_type": "execute_result"
    }
   ],
   "source": [
    "#julia\n",
    "X = reshape([1:16;], (4, 4))"
   ]
  },
  {
   "cell_type": "code",
   "execution_count": 5,
   "id": "6de627be",
   "metadata": {},
   "outputs": [
    {
     "data": {
      "text/plain": [
       "4×4 Matrix{Int64}:\n",
       "  1  25   81  169\n",
       "  4  36  100  196\n",
       "  9  49  121  225\n",
       " 16  64  144  256"
      ]
     },
     "execution_count": 31,
     "metadata": {},
     "output_type": "execute_result"
    }
   ],
   "source": [
    "#julia\n",
    "power2.(X)"
   ]
  },
  {
   "cell_type": "code",
   "execution_count": 6,
   "id": "72a625d6",
   "metadata": {},
   "outputs": [
    {
     "data": {
      "text/plain": [
       "5-element Vector{Int64}:\n",
       " 11\n",
       " 12\n",
       " 13\n",
       " 14\n",
       " 15"
      ]
     },
     "execution_count": 32,
     "metadata": {},
     "output_type": "execute_result"
    }
   ],
   "source": [
    "#julia\n",
    "[1:5;] .+ 10"
   ]
  },
  {
   "cell_type": "code",
   "execution_count": 7,
   "id": "b8bff5af",
   "metadata": {},
   "outputs": [],
   "source": [
    "#| include: false\n",
    "# import Pkg; Pkg.add(\"RCall\"); Pkg.add(\"BenchmarkTools\");\n",
    "using RCall;"
   ]
  },
  {
   "cell_type": "code",
   "execution_count": 8,
   "id": "26e737e5",
   "metadata": {},
   "outputs": [
    {
     "name": "stderr",
     "output_type": "stream",
     "text": [
      "\u001b[33m\u001b[1m┌ \u001b[22m\u001b[39m\u001b[33m\u001b[1mWarning: \u001b[22m\u001b[39mRCall.jl: Aviso: Some expressions had a GC in every iteration; so filtering is disabled.\n",
      "\u001b[33m\u001b[1m└ \u001b[22m\u001b[39m\u001b[90m@ RCall ~/.julia/packages/RCall/0ggIQ/src/io.jl:172\u001b[39m\n"
     ]
    },
    {
     "data": {
      "text/plain": [
       "RObject{VecSxp}\n",
       "# A tibble: 3 × 13\n",
       "  expression   min median `itr/sec` mem_alloc `gc/sec` n_itr  n_gc total_time\n",
       "  <bch:expr> <dbl>  <dbl>     <dbl>     <dbl>    <dbl> <int> <dbl>   <bch:tm>\n",
       "1 f1_vec(x)    1      1       356.       1.50    41.3   2469    41      500ms\n",
       "2 f1_loop(x)  45.2   52.7      10.2      1.50     1       71     1      503ms\n",
       "3 f1_map(x)  544.   529.        1        1        8.97     7     9      505ms\n",
       "# ℹ 4 more variables: result <list>, memory <list>, time <list>, gc <list>\n"
      ]
     },
     "execution_count": 34,
     "metadata": {},
     "output_type": "execute_result"
    }
   ],
   "source": [
    "#| warning: false\n",
    "#R\n",
    "R\"\"\"\n",
    "f1_vec = function(x) {\n",
    "    y = x + 1\n",
    "}\n",
    "\n",
    "f1_loop = function(x) {\n",
    "    y = x\n",
    "    for (i in seq_along(x)) y[i] = x[i] + 1\n",
    "    y\n",
    "}\n",
    "\n",
    "f1_map = function(x) {\n",
    "    purrr::map_dbl(x, \\(xi) xi + 1)\n",
    "}\n",
    "\n",
    "x = 1:100000\n",
    "\n",
    "bench::mark(\n",
    "    f1_vec(x)\n",
    "    ,f1_loop(x)\n",
    "    ,f1_map(x)\n",
    "    ,relative = TRUE\n",
    ")\n",
    "\"\"\""
   ]
  },
  {
   "cell_type": "code",
   "execution_count": 9,
   "id": "b138b713",
   "metadata": {},
   "outputs": [],
   "source": [
    "#julia\n",
    "f1_vec(x) = x .+ 1;\n",
    "\n",
    "function f1_loop(x)\n",
    "    y = similar(x)\n",
    "    @inbounds for i ∈ eachindex(x) y[i] = x[i] + 1 end\n",
    "    y\n",
    "end;\n",
    "\n",
    "function f1_map(x)\n",
    "    map(x) do xi\n",
    "        xi + 1 \n",
    "    end\n",
    "end;"
   ]
  },
  {
   "cell_type": "code",
   "execution_count": 10,
   "id": "caa81838",
   "metadata": {},
   "outputs": [],
   "source": [
    "#| eval: false\n",
    "#julia\n",
    "using BenchmarkTools;\n",
    "x = [1:100000;];\n",
    "\n",
    "@benchmark f1_vec($x)"
   ]
  },
  {
   "cell_type": "code",
   "execution_count": 11,
   "id": "08dd5bd1",
   "metadata": {},
   "outputs": [],
   "source": [
    "#| eval: false\n",
    "#julia\n",
    "@benchmark f1_loop($x)"
   ]
  },
  {
   "cell_type": "code",
   "execution_count": 12,
   "id": "5b5fe2c5",
   "metadata": {},
   "outputs": [],
   "source": [
    "#| eval: false\n",
    "#julia\n",
    "@benchmark f1_map($x)"
   ]
  },
  {
   "cell_type": "code",
   "execution_count": 13,
   "id": "20280c42",
   "metadata": {},
   "outputs": [],
   "source": [
    "#| eval: false\n",
    "\n",
    "using MyPackage.Metrics\n",
    "\n",
    "# or\n",
    "import MyPackage.Models as MD"
   ]
  }
 ],
 "metadata": {
  "kernelspec": {
   "display_name": "Julia 1.10.8",
   "language": "julia",
   "name": "julia-1.10",
   "path": "/home/vituri/snap/code/181/.local/share/jupyter/kernels/julia-1.10"
  }
 },
 "nbformat": 4,
 "nbformat_minor": 5
}