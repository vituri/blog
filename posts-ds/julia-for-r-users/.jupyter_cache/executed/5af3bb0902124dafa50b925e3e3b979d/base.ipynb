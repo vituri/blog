{
 "cells": [
  {
   "cell_type": "code",
   "execution_count": 1,
   "id": "a626008b",
   "metadata": {},
   "outputs": [],
   "source": [
    "import IJulia\n",
    "import Base64\n",
    "\n",
    "# The julia kernel has built in support for Revise.jl, so this is the \n",
    "# recommended approach for long-running sessions:\n",
    "# https://github.com/JuliaLang/IJulia.jl/blob/9b10fa9b879574bbf720f5285029e07758e50a5e/src/kernel.jl#L46-L51\n",
    "\n",
    "# Users should enable revise within .julia/config/startup_ijulia.jl:\n",
    "# https://timholy.github.io/Revise.jl/stable/config/#Using-Revise-automatically-within-Jupyter/IJulia-1\n",
    "\n",
    "# clear console history\n",
    "IJulia.clear_history()\n",
    "\n",
    "fig_width = 7\n",
    "fig_height = 5\n",
    "fig_format = :retina\n",
    "fig_dpi = 96\n",
    "\n",
    "# no retina format type, use svg for high quality type/marks\n",
    "if fig_format == :retina\n",
    "  fig_format = :svg\n",
    "elseif fig_format == :pdf\n",
    "  fig_dpi = 96\n",
    "  # Enable PDF support for IJulia\n",
    "  IJulia.register_mime(MIME(\"application/pdf\"))\n",
    "end\n",
    "\n",
    "# convert inches to pixels\n",
    "fig_width = fig_width * fig_dpi\n",
    "fig_height = fig_height * fig_dpi\n",
    "\n",
    "# Intialize Plots w/ default fig width/height\n",
    "try\n",
    "  import Plots\n",
    "\n",
    "  # Plots.jl doesn't support PDF output for versions < 1.28.1\n",
    "  # so use png (if the DPI remains the default of 300 then set to 96)\n",
    "  if (Plots._current_plots_version < v\"1.28.1\") & (fig_format == :pdf)\n",
    "    Plots.gr(size=(fig_width, fig_height), fmt = :png, dpi = fig_dpi)\n",
    "  else\n",
    "    Plots.gr(size=(fig_width, fig_height), fmt = fig_format, dpi = fig_dpi)\n",
    "  end\n",
    "catch e\n",
    "  # @warn \"Plots init\" exception=(e, catch_backtrace())\n",
    "end\n",
    "\n",
    "# Initialize CairoMakie with default fig width/height\n",
    "try\n",
    "  import CairoMakie\n",
    "\n",
    "  # CairoMakie's display() in PDF format opens an interactive window\n",
    "  # instead of saving to the ipynb file, so we don't do that.\n",
    "  # https://github.com/quarto-dev/quarto-cli/issues/7548\n",
    "  if fig_format == :pdf\n",
    "    CairoMakie.activate!(type = \"png\")\n",
    "  else\n",
    "    CairoMakie.activate!(type = string(fig_format))\n",
    "  end\n",
    "  CairoMakie.update_theme!(resolution=(fig_width, fig_height))\n",
    "catch e\n",
    "    # @warn \"CairoMakie init\" exception=(e, catch_backtrace())\n",
    "end\n",
    "  \n",
    "# Set run_path if specified\n",
    "try\n",
    "  run_path = \"L2hvbWUvdml0dXJpL0RvY3VtZW50b3MvR2l0SHViL2Jsb2cvcG9zdHMtZHMvanVsaWEtZm9yLXItdXNlcnM=\"\n",
    "  if !isempty(run_path)\n",
    "    run_path = String(Base64.base64decode(run_path))\n",
    "    cd(run_path)\n",
    "  end\n",
    "catch e\n",
    "  @warn \"Run path init:\" exception=(e, catch_backtrace())\n",
    "end\n",
    "\n",
    "\n",
    "# emulate old Pkg.installed beahvior, see\n",
    "# https://discourse.julialang.org/t/how-to-use-pkg-dependencies-instead-of-pkg-installed/36416/9\n",
    "import Pkg\n",
    "function isinstalled(pkg::String)\n",
    "  any(x -> x.name == pkg && x.is_direct_dep, values(Pkg.dependencies()))\n",
    "end\n",
    "\n",
    "# ojs_define\n",
    "if isinstalled(\"JSON\") && isinstalled(\"DataFrames\")\n",
    "  import JSON, DataFrames\n",
    "  global function ojs_define(; kwargs...)\n",
    "    convert(x) = x\n",
    "    convert(x::DataFrames.AbstractDataFrame) = Tables.rows(x)\n",
    "    content = Dict(\"contents\" => [Dict(\"name\" => k, \"value\" => convert(v)) for (k, v) in kwargs])\n",
    "    tag = \"<script type='ojs-define'>$(JSON.json(content))</script>\"\n",
    "    IJulia.display(MIME(\"text/html\"), tag)\n",
    "  end\n",
    "elseif isinstalled(\"JSON\")\n",
    "  import JSON\n",
    "  global function ojs_define(; kwargs...)\n",
    "    content = Dict(\"contents\" => [Dict(\"name\" => k, \"value\" => v) for (k, v) in kwargs])\n",
    "    tag = \"<script type='ojs-define'>$(JSON.json(content))</script>\"\n",
    "    IJulia.display(MIME(\"text/html\"), tag)\n",
    "  end\n",
    "else\n",
    "  global function ojs_define(; kwargs...)\n",
    "    @warn \"JSON package not available. Please install the JSON.jl package to use ojs_define.\"\n",
    "  end\n",
    "end\n",
    "\n",
    "\n",
    "# don't return kernel dependencies (b/c Revise should take care of dependencies)\n",
    "nothing\n"
   ]
  },
  {
   "cell_type": "code",
   "execution_count": 2,
   "id": "aba2e16b",
   "metadata": {},
   "outputs": [
    {
     "data": {
      "text/plain": [
       "RObject{IntSxp}\n",
       "[1] 3\n"
      ]
     },
     "execution_count": 2,
     "metadata": {},
     "output_type": "execute_result"
    }
   ],
   "source": [
    "using RCall;\n",
    "\n",
    "R\"\"\"\n",
    "median(1:5)\n",
    "\"\"\""
   ]
  },
  {
   "cell_type": "code",
   "execution_count": 3,
   "id": "8b14b9ba",
   "metadata": {},
   "outputs": [
    {
     "data": {
      "text/plain": [
       "RObject{IntSxp}\n",
       "[1] 3\n"
      ]
     },
     "execution_count": 3,
     "metadata": {},
     "output_type": "execute_result"
    }
   ],
   "source": [
    "x = [1:5;]\n",
    "\n",
    "@rput x\n",
    "\n",
    "R\"median(x)\""
   ]
  },
  {
   "cell_type": "code",
   "execution_count": 4,
   "id": "f215c9ae",
   "metadata": {},
   "outputs": [],
   "source": [
    "#| eval: false\n",
    "using TidierData\n",
    "using RDatasets\n",
    "\n",
    "movies = dataset(\"ggplot2\", \"movies\");\n",
    "\n",
    "@chain movies begin\n",
    "    @mutate(Budget = Budget / 1_000_000)\n",
    "    @filter(Budget >= mean(skipmissing(Budget)))\n",
    "    @select(Title, Budget)\n",
    "    @slice(1:5)\n",
    "end"
   ]
  },
  {
   "cell_type": "code",
   "execution_count": 5,
   "id": "69ff1a98",
   "metadata": {},
   "outputs": [],
   "source": [
    "#| eval: false\n",
    "\n",
    "@edit maximum([1:5;])"
   ]
  },
  {
   "cell_type": "code",
   "execution_count": 6,
   "id": "bb30c942",
   "metadata": {},
   "outputs": [
    {
     "data": {
      "text/plain": [
       "10-element Vector{Int64}:\n",
       "   1\n",
       "   4\n",
       "   9\n",
       "  16\n",
       "  25\n",
       "  36\n",
       "  49\n",
       "  64\n",
       "  81\n",
       " 100"
      ]
     },
     "execution_count": 4,
     "metadata": {},
     "output_type": "execute_result"
    }
   ],
   "source": [
    "#julia\n",
    "# define power2 for numbers\n",
    "power2(x) = x^2;\n",
    "\n",
    "# apply in vectors\n",
    "power2.(1:10)"
   ]
  },
  {
   "cell_type": "code",
   "execution_count": 7,
   "id": "fbeed7dd",
   "metadata": {},
   "outputs": [
    {
     "data": {
      "text/plain": [
       "4×4 Matrix{Int64}:\n",
       " 1  5   9  13\n",
       " 2  6  10  14\n",
       " 3  7  11  15\n",
       " 4  8  12  16"
      ]
     },
     "execution_count": 5,
     "metadata": {},
     "output_type": "execute_result"
    }
   ],
   "source": [
    "#julia\n",
    "X = reshape([1:16;], (4, 4))"
   ]
  },
  {
   "cell_type": "code",
   "execution_count": 8,
   "id": "5102fcf5",
   "metadata": {},
   "outputs": [
    {
     "data": {
      "text/plain": [
       "4×4 Matrix{Int64}:\n",
       "  1  25   81  169\n",
       "  4  36  100  196\n",
       "  9  49  121  225\n",
       " 16  64  144  256"
      ]
     },
     "execution_count": 6,
     "metadata": {},
     "output_type": "execute_result"
    }
   ],
   "source": [
    "#julia\n",
    "power2.(X)"
   ]
  },
  {
   "cell_type": "code",
   "execution_count": 9,
   "id": "a0f287c8",
   "metadata": {},
   "outputs": [
    {
     "data": {
      "text/plain": [
       "5-element Vector{Int64}:\n",
       " 11\n",
       " 12\n",
       " 13\n",
       " 14\n",
       " 15"
      ]
     },
     "execution_count": 7,
     "metadata": {},
     "output_type": "execute_result"
    }
   ],
   "source": [
    "#julia\n",
    "[1:5;] .+ 10"
   ]
  },
  {
   "cell_type": "code",
   "execution_count": 10,
   "id": "89c280b6",
   "metadata": {},
   "outputs": [
    {
     "name": "stderr",
     "output_type": "stream",
     "text": [
      "\u001b[33m\u001b[1m┌ \u001b[22m\u001b[39m\u001b[33m\u001b[1mWarning: \u001b[22m\u001b[39mRCall.jl: Aviso: Some expressions had a GC in every iteration; so filtering is disabled.\n",
      "\u001b[33m\u001b[1m└ \u001b[22m\u001b[39m\u001b[90m@ RCall ~/.julia/packages/RCall/0ggIQ/src/io.jl:172\u001b[39m\n"
     ]
    },
    {
     "data": {
      "text/plain": [
       "RObject{VecSxp}\n",
       "# A tibble: 3 × 13\n",
       "  expression   min median `itr/sec` mem_alloc `gc/sec` n_itr  n_gc total_time\n",
       "  <bch:expr> <dbl>  <dbl>     <dbl>     <dbl>    <dbl> <int> <dbl>   <bch:tm>\n",
       "1 f1_vec(x)    1      1       116.       1        11.1   777    11      500ms\n",
       "2 f1_loop(x)  43.5   13.1      10.7      1.03      1      72     1      503ms\n",
       "3 f1_map(x)  521.   139.        1        1.00     33.8     7    35      521ms\n",
       "# ℹ 4 more variables: result <list>, memory <list>, time <list>, gc <list>\n"
      ]
     },
     "execution_count": 8,
     "metadata": {},
     "output_type": "execute_result"
    }
   ],
   "source": [
    "#| warning: false\n",
    "#| echo: false\n",
    "#R\n",
    "R\"\"\"\n",
    "f1_vec = function(x) {\n",
    "    y = x + 1\n",
    "}\n",
    "\n",
    "f1_loop = function(x) {\n",
    "    y = x\n",
    "    for (i in seq_along(x)) y[i] = x[i] + 1\n",
    "    y\n",
    "}\n",
    "\n",
    "f1_map = function(x) {\n",
    "    purrr::map_dbl(x, \\(xi) xi + 1)\n",
    "}\n",
    "\n",
    "x = 1:100000\n",
    "\n",
    "bench::mark(\n",
    "    f1_vec(x)\n",
    "    ,f1_loop(x)\n",
    "    ,f1_map(x)\n",
    "    ,relative = TRUE\n",
    ")\n",
    "\"\"\""
   ]
  },
  {
   "cell_type": "code",
   "execution_count": 11,
   "id": "7d6d5038",
   "metadata": {},
   "outputs": [],
   "source": [
    "#julia\n",
    "f1_vec(x) = x .+ 1;\n",
    "\n",
    "function f1_loop(x)\n",
    "    y = similar(x)\n",
    "    @inbounds for i ∈ eachindex(x) y[i] = x[i] + 1 end\n",
    "    y\n",
    "end;\n",
    "\n",
    "function f1_map(x)\n",
    "    map(x) do xi\n",
    "        xi + 1 \n",
    "    end\n",
    "end;"
   ]
  },
  {
   "cell_type": "code",
   "execution_count": 12,
   "id": "fb184ba3",
   "metadata": {},
   "outputs": [],
   "source": [
    "#| eval: false\n",
    "#julia\n",
    "using BenchmarkTools;\n",
    "x = [1:100000;];\n",
    "\n",
    "@benchmark f1_vec($x)"
   ]
  },
  {
   "cell_type": "code",
   "execution_count": 13,
   "id": "064ebd28",
   "metadata": {},
   "outputs": [],
   "source": [
    "#| eval: false\n",
    "#julia\n",
    "@benchmark f1_loop($x)"
   ]
  },
  {
   "cell_type": "code",
   "execution_count": 14,
   "id": "8b87bfdb",
   "metadata": {},
   "outputs": [],
   "source": [
    "#| eval: false\n",
    "#julia\n",
    "@benchmark f1_map($x)"
   ]
  },
  {
   "cell_type": "code",
   "execution_count": 15,
   "id": "062b2025",
   "metadata": {},
   "outputs": [
    {
     "data": {
      "text/plain": [
       "1:10"
      ]
     },
     "execution_count": 10,
     "metadata": {},
     "output_type": "execute_result"
    }
   ],
   "source": [
    "x = 1:10"
   ]
  },
  {
   "cell_type": "code",
   "execution_count": 16,
   "id": "c85c7454",
   "metadata": {},
   "outputs": [
    {
     "data": {
      "text/plain": [
       "UnitRange{Int64}"
      ]
     },
     "execution_count": 11,
     "metadata": {},
     "output_type": "execute_result"
    }
   ],
   "source": [
    "typeof(x)"
   ]
  },
  {
   "cell_type": "code",
   "execution_count": 17,
   "id": "5b02c3a0",
   "metadata": {},
   "outputs": [
    {
     "name": "stdout",
     "output_type": "stream",
     "text": [
      "UnitRange{Int64} <: AbstractUnitRange{Int64} <: OrdinalRange{Int64, Int64} <: AbstractRange{Int64} <: AbstractVector{"
     ]
    },
    {
     "name": "stdout",
     "output_type": "stream",
     "text": [
      "Int64} <: Any"
     ]
    }
   ],
   "source": [
    "Base.show_supertypes(typeof(x))"
   ]
  },
  {
   "cell_type": "code",
   "execution_count": 18,
   "id": "e2a7d52c",
   "metadata": {},
   "outputs": [],
   "source": [
    "#| eval: false\n",
    "@edit maximum(1:10)"
   ]
  },
  {
   "cell_type": "code",
   "execution_count": 19,
   "id": "096a530b",
   "metadata": {},
   "outputs": [],
   "source": [
    "#| eval: false\n",
    "maximum(r::AbstractUnitRange) = isempty(r) ? throw(ArgumentError(\"range must be non-empty\")) : last(r)"
   ]
  },
  {
   "cell_type": "code",
   "execution_count": 20,
   "id": "1534bdec",
   "metadata": {},
   "outputs": [
    {
     "name": "stdout",
     "output_type": "stream",
     "text": [
      "  0.017893 seconds (2 allocations: 7.629 MiB)\n"
     ]
    }
   ],
   "source": [
    "@time sin.(1:1_000_000);"
   ]
  },
  {
   "cell_type": "code",
   "execution_count": 21,
   "id": "888ab239",
   "metadata": {},
   "outputs": [
    {
     "name": "stderr",
     "output_type": "stream",
     "text": [
      "\r",
      "\u001b[32mProgress:  20%|████████▎                                |  ETA: 0:00:07\u001b[39m"
     ]
    },
    {
     "name": "stderr",
     "output_type": "stream",
     "text": [
      "\r",
      "\u001b[32mProgress:  90%|████████████████████████████████████▉    |  ETA: 0:00:00\u001b[39m"
     ]
    },
    {
     "name": "stderr",
     "output_type": "stream",
     "text": [
      "\r",
      "\u001b[32mProgress: 100%|█████████████████████████████████████████| Time: 0:00:03\u001b[39m\n"
     ]
    }
   ],
   "source": [
    "using ProgressMeter;\n",
    "\n",
    "@showprogress for i in 1:10\n",
    "    sleep(0.1)\n",
    "end"
   ]
  },
  {
   "cell_type": "code",
   "execution_count": 22,
   "id": "58115c56",
   "metadata": {},
   "outputs": [],
   "source": [
    "#| eval: false\n",
    "using TidierData\n",
    "\n",
    "@chain iris\n",
    "    @filter Species == 'setosa'\n",
    "    @summarise Sum = sum(Petal_length)\n",
    "    @arrange Sum\n",
    "end"
   ]
  },
  {
   "cell_type": "code",
   "execution_count": 23,
   "id": "eafd699f",
   "metadata": {},
   "outputs": [],
   "source": [
    "#| eval: false\n",
    "\n",
    "using MyPackage.Metrics\n",
    "\n",
    "# or\n",
    "import MyPackage.Models as MD"
   ]
  }
 ],
 "metadata": {
  "kernelspec": {
   "display_name": "Julia 1.10.8",
   "language": "julia",
   "name": "julia-1.10",
   "path": "/home/vituri/snap/code/181/.local/share/jupyter/kernels/julia-1.10"
  },
  "language_info": {
   "file_extension": ".jl",
   "mimetype": "application/julia",
   "name": "julia",
   "version": "1.10.8"
  }
 },
 "nbformat": 4,
 "nbformat_minor": 5
}