{
  "cells": [
    {
      "cell_type": "markdown",
      "metadata": {},
      "source": [
        "---\n",
        "title: \"Symbolic Regression in Julia\"\n",
        "date: 2024-03-14\n",
        "\n",
        "jupyter: julia-1.10\n",
        "format: \n",
        "    pdf: default\n",
        "    html: default\n",
        "    \n",
        "engine: julia\n",
        "---\n",
        "\n",
        "\n",
        "\n",
        "\n",
        "\n",
        "\n",
        "\n",
        "\n",
        "![](cover.png)\n",
        "\n",
        "\n",
        "## What is it?\n",
        "\n",
        "A linear regression finds the line that is \"closest\" to a dataset. In a similar maner, a symbolic regression is an algorithm that find a combination of symbols that minimizes the mean square error of a given dataset. These symbols are unary and binary operators like the + symbol or a function like $cos$ and $1/x$.\n",
        "\n",
        "## Example 1\n",
        "\n",
        "Let's try to approximate the function $f(x) = - x^2 + 1$ using the symbols and $+, -, *$ combined with the variable $x$. \n"
      ],
      "id": "358b8dcd"
    },
    {
      "cell_type": "code",
      "metadata": {},
      "source": [
        "using SymbolicRegression, MLJ, SymbolicUtils\n",
        "using Plots\n",
        "\n",
        "x = [-3:0.1:3;]\n",
        "y = @. - x^2 + 1;\n",
        "\n",
        "scatter(x, y)"
      ],
      "id": "b0971efe",
      "execution_count": null,
      "outputs": []
    },
    {
      "cell_type": "markdown",
      "metadata": {},
      "source": [
        "First we define a model\n"
      ],
      "id": "5744705a"
    },
    {
      "cell_type": "code",
      "metadata": {},
      "source": [
        "model = SRRegressor(\n",
        "    binary_operators=[+, -, *],    \n",
        "    niterations=50,\n",
        "    seed = 1\n",
        ");"
      ],
      "id": "267d6104",
      "execution_count": null,
      "outputs": []
    },
    {
      "cell_type": "markdown",
      "metadata": {},
      "source": [
        "(Note: the argument `seed = 1` is needed to ensure that the result is the same when this Quarto document compiles; you don't need it.)\n",
        "\n",
        "And then fit it to our dataset\n"
      ],
      "id": "a97d6b93"
    },
    {
      "cell_type": "code",
      "metadata": {},
      "source": [
        "#| output: false\n",
        "X = reshape(x, (length(x), 1))\n",
        "\n",
        "mach = machine(model, X, y)\n",
        "fit!(mach)"
      ],
      "id": "b4ffb04f",
      "execution_count": null,
      "outputs": []
    },
    {
      "cell_type": "markdown",
      "metadata": {},
      "source": [
        "We can see a report about the results:\n"
      ],
      "id": "deac502d"
    },
    {
      "cell_type": "code",
      "metadata": {},
      "source": [
        "r = report(mach);\n",
        "\n",
        "r"
      ],
      "id": "af207984",
      "execution_count": null,
      "outputs": []
    },
    {
      "cell_type": "markdown",
      "metadata": {},
      "source": [
        "This report contains the losses\n"
      ],
      "id": "2b598bcc"
    },
    {
      "cell_type": "code",
      "metadata": {},
      "source": [
        "r.losses"
      ],
      "id": "3e47ba6c",
      "execution_count": null,
      "outputs": []
    },
    {
      "cell_type": "markdown",
      "metadata": {},
      "source": [
        "the equations\n"
      ],
      "id": "a5698191"
    },
    {
      "cell_type": "code",
      "metadata": {},
      "source": [
        "r.equations"
      ],
      "id": "f97e6f06",
      "execution_count": null,
      "outputs": []
    },
    {
      "cell_type": "markdown",
      "metadata": {},
      "source": [
        "and the best one of the functions found (ie. the one with the least loss):\n"
      ],
      "id": "55b324bc"
    },
    {
      "cell_type": "code",
      "metadata": {},
      "source": [
        "node_to_symbolic(r.equations[r.best_idx], model)"
      ],
      "id": "9fd84c5c",
      "execution_count": null,
      "outputs": []
    },
    {
      "cell_type": "markdown",
      "metadata": {},
      "source": [
        "Here, we can read $x_1$ as $x$, because we only have one variable.\n",
        "\n",
        "Notice that this expression simplifies to our original $f$.\n",
        "\n",
        "## Example 2\n",
        "\n",
        "Now let's get a more interesting example. Take $f(x) = x^2 + 2cos(x)^2$:\n"
      ],
      "id": "fc58e19b"
    },
    {
      "cell_type": "code",
      "metadata": {},
      "source": [
        "y = @. x^2 + 2cos(x)^2 \n",
        "\n",
        "scatter(x, y)"
      ],
      "id": "3eab52d1",
      "execution_count": null,
      "outputs": []
    },
    {
      "cell_type": "markdown",
      "metadata": {},
      "source": [
        "We again create a model and fit it, but now we allow more operations: besides the earlier binary functions, we also have the unary `cos` function:\n"
      ],
      "id": "c5d3f950"
    },
    {
      "cell_type": "code",
      "metadata": {},
      "source": [
        "#| output: false\n",
        "\n",
        "model = SRRegressor(\n",
        "    binary_operators = [+, -, *],    \n",
        "    unary_operators = [cos],\n",
        "    niterations=50,\n",
        "    seed = 1\n",
        ");\n",
        "\n",
        "mach = machine(model, X, y)\n",
        "fit!(mach)"
      ],
      "id": "e52d22db",
      "execution_count": null,
      "outputs": []
    },
    {
      "cell_type": "markdown",
      "metadata": {},
      "source": [
        "and see the best equation:\n"
      ],
      "id": "eaf212ac"
    },
    {
      "cell_type": "code",
      "metadata": {},
      "source": [
        "r = report(mach)\n",
        "node_to_symbolic(r.equations[r.best_idx], model)"
      ],
      "id": "ea7f1894",
      "execution_count": null,
      "outputs": []
    },
    {
      "cell_type": "markdown",
      "metadata": {},
      "source": [
        "So, we got\n",
        "\n",
        "$$\n",
        "x * x + cos(x + x) - (-1) = x^2 + cos(2x) + 1\n",
        "$$\n",
        "\n",
        "Since $cos(2x) + 1 = 2cos^2(x)$, we retrieve the original function.\n",
        "\n",
        "## Example 3\n",
        "\n",
        "Even after adding some noise to the original dataset, the symbolic regression still can find a very good approximation:\n",
        "\n",
        "Take $f(x) = 0.3 * x^3 - x^2 + 2cos(x) + \\epsilon(x)$ where $\\epsilon(x)$ is a random uniform error (varying in $[0, 1]$) like this:\n"
      ],
      "id": "f57c3761"
    },
    {
      "cell_type": "code",
      "metadata": {},
      "source": [
        "x = [-5:0.1:5;]\n",
        "X = reshape(x, (length(x), 1))\n",
        "errors = rand(length(x))\n",
        "y = @. 0.3*x^3 - x^2 + 2cos(x) + errors\n",
        "\n",
        "scatter(x, y)"
      ],
      "id": "9d602dd3",
      "execution_count": null,
      "outputs": []
    },
    {
      "cell_type": "code",
      "metadata": {},
      "source": [
        "#| output: false\n",
        "model = SRRegressor(\n",
        "    binary_operators = [+, -, *],    \n",
        "    unary_operators = [cos],\n",
        "    niterations=60,\n",
        "    seed = 1\n",
        ");\n",
        "\n",
        "mach = machine(model, X, y)\n",
        "fit!(mach)"
      ],
      "id": "479508ba",
      "execution_count": null,
      "outputs": []
    },
    {
      "cell_type": "markdown",
      "metadata": {},
      "source": [
        "and see the best equation:\n"
      ],
      "id": "8f7dacfa"
    },
    {
      "cell_type": "code",
      "metadata": {},
      "source": [
        "r = report(mach)\n",
        "node_to_symbolic(r.equations[r.best_idx], model)"
      ],
      "id": "173fe1c2",
      "execution_count": null,
      "outputs": []
    },
    {
      "cell_type": "markdown",
      "metadata": {},
      "source": [
        "We can plot the prediction and the original dataset to compare them:\n"
      ],
      "id": "a072a502"
    },
    {
      "cell_type": "code",
      "metadata": {},
      "source": [
        "y_pred = predict(mach, X)\n",
        " \n",
        "scatter(x, y);\n",
        "scatter!(x, y_pred, color = \"red\")"
      ],
      "id": "5d786c05",
      "execution_count": null,
      "outputs": []
    },
    {
      "cell_type": "markdown",
      "metadata": {},
      "source": [
        "Not bad at all!\n",
        "\n",
        "You can see more about this package in [this link](https://astroautomata.com/SymbolicRegression.jl/dev/examples/). If you have enough courage, read the [original paper](https://arxiv.org/abs/2305.01582) on arxiv!"
      ],
      "id": "3ffd066a"
    }
  ],
  "metadata": {
    "kernelspec": {
      "name": "julia-1.10",
      "language": "julia",
      "display_name": "Julia 1.10.0",
      "path": "/home/vituri/.local/share/jupyter/kernels/julia-1.10"
    }
  },
  "nbformat": 4,
  "nbformat_minor": 5
}