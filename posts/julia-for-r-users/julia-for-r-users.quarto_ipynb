{
  "cells": [
    {
      "cell_type": "raw",
      "metadata": {},
      "source": [
        "---\n",
        "title: Julia for R users\n",
        "date: 2025-02-03\n",
        "categories:\n",
        "  - julia\n",
        "  - r\n",
        "---"
      ],
      "id": "0743f4fb"
    },
    {
      "cell_type": "markdown",
      "metadata": {},
      "source": [
        "> I know a lot of R and can do my daily job with it. Why should I learn Julia?\n",
        "\n",
        "In my case, I was looking for some adventure. Haskell seemed too hard, Python too normal. So I went on a journey to learn Julia and was very happy with what I discovered.\n",
        "\n",
        "I love R, it is my breadwinner (and has been for the past 6 years), and because of that I know some of its limitations. So below is a (biased) list of features that may interest you in trying Julia:\n",
        "\n",
        "## You can run R inside of Julia\n",
        "\n",
        "Not sure where to begin in Julia? Start with R!\n",
        "\n",
        "With `RCall` you can run R code inside Julia:"
      ],
      "id": "b4811ef1"
    },
    {
      "cell_type": "code",
      "metadata": {},
      "source": [
        "using RCall;\n",
        "\n",
        "R\"\"\"\n",
        "median(1:5)\n",
        "\"\"\""
      ],
      "id": "930f852b",
      "execution_count": null,
      "outputs": []
    },
    {
      "cell_type": "markdown",
      "metadata": {},
      "source": [
        "You can even pass objects from Julia to R and vice-versa:"
      ],
      "id": "bcdb5829"
    },
    {
      "cell_type": "code",
      "metadata": {},
      "source": [
        "x = [1:5;]\n",
        "\n",
        "@rput x\n",
        "\n",
        "R\"median(x)\""
      ],
      "id": "2fd98dac",
      "execution_count": null,
      "outputs": []
    },
    {
      "cell_type": "markdown",
      "metadata": {},
      "source": [
        "This R chunks in this Quarto notebook were made using RCall! See [RCall docs](https://juliainterop.github.io/RCall.jl/stable/gettingstarted/) for more details.\n",
        "\n",
        "You can see some differences between R and Julia [here](https://docs.julialang.org/en/v1/manual/noteworthy-differences/#Noteworthy-differences-from-R).\n",
        "\n",
        "## There is a tidyverse in Julia and it is awesome\n",
        "\n",
        "[Tidier.jl](https://tidierorg.github.io/Tidier.jl/dev/) is a data analysis package inspired by R's tidyverse and crafted specifically for Julia. It is made with the macro magic described below. Behind the scenes, it is transformed in usual `Dataframes.jl` code.\n",
        "\n",
        "![Why not recreate an entire ecosystem using macros?](images/tidier.png)\n",
        "\n",
        "Here's an example from TidierData docs:"
      ],
      "id": "a5cd5108"
    },
    {
      "cell_type": "code",
      "metadata": {},
      "source": [
        "#| eval: false\n",
        "using TidierData\n",
        "using RDatasets\n",
        "\n",
        "movies = dataset(\"ggplot2\", \"movies\");\n",
        "\n",
        "@chain movies begin\n",
        "    @mutate(Budget = Budget / 1_000_000)\n",
        "    @filter(Budget >= mean(skipmissing(Budget)))\n",
        "    @select(Title, Budget)\n",
        "    @slice(1:5)\n",
        "end"
      ],
      "id": "e0ca9947",
      "execution_count": null,
      "outputs": []
    },
    {
      "cell_type": "markdown",
      "metadata": {},
      "source": [
        "It looks like `dplyr` code with `@`s.\n",
        "\n",
        "\n",
        "## Fast Julia code is written in Julia; fast R code is not written in R\n",
        "\n",
        "In R, whenever you need some *really* fast code (as fast as you would get in C), you have to use C or Fortran code. R is simply slow. If you need speed in R, you will have to find a package that already implements what you need or learn C/Fortran, use RCpp and pray.\n",
        "\n",
        "![`stringi` package sourcecode.](images/stringi-code.png)\n",
        "\n",
        "In Julia, you won't need other language to get speed close to C. That's way they say that Julia [solves the two language problem](https://juliadatascience.io/julia_accomplish#sec:two_language). Julia packages are almost always 100% Julia, which means that you can look to its sourcecode and learn a lot.\n",
        "\n",
        "![Images that make you cry: the deep learning package [Flux.jl](https://github.com/FluxML/Flux.jl).](images/flux.png)\n",
        "\n",
        "This is specially interesting if you read Julia Base sourcecode! How does Julia define the maximum of a vector? Type"
      ],
      "id": "2b17978a"
    },
    {
      "cell_type": "code",
      "metadata": {},
      "source": [
        "#| eval: false\n",
        "\n",
        "@edit maximum([1:5;])"
      ],
      "id": "b2f85e83",
      "execution_count": null,
      "outputs": []
    },
    {
      "cell_type": "markdown",
      "metadata": {},
      "source": [
        "and you will see this:\n",
        "\n",
        "![The sourcecode of the function maximum applied to a vector.](images/maximum-sourcecode.png)\n",
        "\n",
        "It takes some time to grasp the meaning, but in the end it says \"apply a mapreduce into the vector, using the max function on each pair of numbers\". In R, the sourcecode is a sad `.Primitive(\"max\")`.\n",
        "\n",
        "In Julia, to obtain maximum performance, you need to follow just two principles, as quoted from the excellent [Modern Julia Workflows](https://modernjuliaworkflows.org/optimizing/):\n",
        "\n",
        "- Ensure that the compiler can infer the type of every variable.\n",
        "- Avoid unnecessary (heap) allocations.\n",
        "\n",
        "For me, it sounds easier than learn C++.\n",
        "\n",
        "\n",
        "## No need to vectorize code; loops, maps and broadcast are fast enough\n",
        "\n",
        "Tired of writing loops? Julia has a special notation `.` (yes, a dot) to apply *any* function to a vector/array/iterable-object; this is called [*broadcasting*](https://docs.julialang.org/en/v1/manual/arrays/#Broadcasting). For example, you can apply the `power2` function in a vector as easy as"
      ],
      "id": "86290fcc"
    },
    {
      "cell_type": "code",
      "metadata": {},
      "source": [
        "#julia\n",
        "# define power2 for numbers\n",
        "power2(x) = x^2;\n",
        "\n",
        "# apply in vectors\n",
        "power2.(1:10)"
      ],
      "id": "75108926",
      "execution_count": null,
      "outputs": []
    },
    {
      "cell_type": "markdown",
      "metadata": {},
      "source": [
        "or in a matrix"
      ],
      "id": "e077d476"
    },
    {
      "cell_type": "code",
      "metadata": {},
      "source": [
        "#julia\n",
        "X = reshape([1:16;], (4, 4))"
      ],
      "id": "3b0fcebe",
      "execution_count": null,
      "outputs": []
    },
    {
      "cell_type": "code",
      "metadata": {},
      "source": [
        "#julia\n",
        "power2.(X)"
      ],
      "id": "f93fa822",
      "execution_count": null,
      "outputs": []
    },
    {
      "cell_type": "markdown",
      "metadata": {},
      "source": [
        "When using infix functions like `+` or `=`, you put the dot before the operator, as in"
      ],
      "id": "c5e2b4da"
    },
    {
      "cell_type": "code",
      "metadata": {},
      "source": [
        "#julia\n",
        "[1:5;] .+ 10"
      ],
      "id": "0a49ce1f",
      "execution_count": null,
      "outputs": []
    },
    {
      "cell_type": "markdown",
      "metadata": {},
      "source": [
        "In R, you always try to avoid loops because they are *slow*. Suppose you have a vector and want to sum 1 to every entry. As an experienced R programmer, you look for a vectorized approach:\n",
        "\n",
        "```r\n",
        "# R\n",
        "f1_vec = function(x) {\n",
        "    y = x + 1\n",
        "}\n",
        "```\n",
        "\n",
        "instead of a loop\n",
        "\n",
        "```r\n",
        "# R\n",
        "f1_loop = function(x) {\n",
        "    y = x\n",
        "    for (i in seq_along(x)) y[i] = x[i] + 1\n",
        "    y\n",
        "}\n",
        "```\n",
        "\n",
        "or a even a `purrr::map` approach (if you are in a functional programming mood)\n",
        "\n",
        "```r\n",
        "#R\n",
        "f1_map = function(x) {\n",
        "    purrr::map_dbl(x, \\(xi) xi + 1)\n",
        "}\n",
        "```\n",
        "\n",
        "because the first options is faster. We can see the difference:\n",
        "\n",
        "```r\n",
        "# R\n",
        "x = 1:100000\n",
        "\n",
        "bench::mark(\n",
        "    f1_vec(x)\n",
        "    ,f1_loop(x)\n",
        "    ,f1_map(x)\n",
        "    ,relative = TRUE\n",
        ")\n",
        "```"
      ],
      "id": "c477df42"
    },
    {
      "cell_type": "code",
      "metadata": {},
      "source": [
        "#| warning: false\n",
        "#| echo: false\n",
        "#R\n",
        "R\"\"\"\n",
        "f1_vec = function(x) {\n",
        "    y = x + 1\n",
        "}\n",
        "\n",
        "f1_loop = function(x) {\n",
        "    y = x\n",
        "    for (i in seq_along(x)) y[i] = x[i] + 1\n",
        "    y\n",
        "}\n",
        "\n",
        "f1_map = function(x) {\n",
        "    purrr::map_dbl(x, \\(xi) xi + 1)\n",
        "}\n",
        "\n",
        "x = 1:100000\n",
        "\n",
        "bench::mark(\n",
        "    f1_vec(x)\n",
        "    ,f1_loop(x)\n",
        "    ,f1_map(x)\n",
        "    ,relative = TRUE\n",
        ")\n",
        "\"\"\""
      ],
      "id": "5107d30a",
      "execution_count": null,
      "outputs": []
    },
    {
      "cell_type": "markdown",
      "metadata": {},
      "source": [
        "In my machine, the loop is ~12x slower and the map ~145x slower than the vectorized version.\n",
        "\n",
        "The biggest problem for an R user is when the function you want to apply have no vectorized form. I usually have to make some kludges^[or [gambiarras](https://pt.wikipedia.org/wiki/Gambiarra), in Brasileirês] with dplyr verbs to do something that is much more logical when written with a loop/map.\n",
        "\n",
        "In Julia, the three approachs are similar:"
      ],
      "id": "a1010542"
    },
    {
      "cell_type": "code",
      "metadata": {},
      "source": [
        "#julia\n",
        "f1_vec(x) = x .+ 1;\n",
        "\n",
        "function f1_loop(x)\n",
        "    y = similar(x)\n",
        "    @inbounds for i ∈ eachindex(x) y[i] = x[i] + 1 end\n",
        "    y\n",
        "end;\n",
        "\n",
        "function f1_map(x)\n",
        "    map(x) do xi\n",
        "        xi + 1 \n",
        "    end\n",
        "end;"
      ],
      "id": "22ecc19b",
      "execution_count": null,
      "outputs": []
    },
    {
      "cell_type": "code",
      "metadata": {},
      "source": [
        "#| eval: true\n",
        "#julia\n",
        "using BenchmarkTools;\n",
        "x = [1:100000;];\n",
        "\n",
        "@benchmark f1_vec($x)"
      ],
      "id": "485adac1",
      "execution_count": null,
      "outputs": []
    },
    {
      "cell_type": "code",
      "metadata": {},
      "source": [
        "#| eval: true\n",
        "#julia\n",
        "@benchmark f1_loop($x)"
      ],
      "id": "1efd95ec",
      "execution_count": null,
      "outputs": []
    },
    {
      "cell_type": "code",
      "metadata": {},
      "source": [
        "#| eval: true\n",
        "#julia\n",
        "@benchmark f1_map($x)"
      ],
      "id": "fbab892e",
      "execution_count": null,
      "outputs": []
    },
    {
      "cell_type": "markdown",
      "metadata": {},
      "source": [
        "This means that in Julia it is usual to *define a function using a scalar type* (a Number like Float64/Int or a String) *and then use broadcast* to apply the function to vectors/matrices/etc. No need to create vectorized forms of functions anymore!\n",
        "\n",
        "\n",
        "## The compiler is your friend\n",
        "\n",
        "Sometimes you write code that won't make your parents proud. Suppose you create a function that sums all the numbers from 1 to a given `n`:"
      ],
      "id": "56f76a55"
    },
    {
      "cell_type": "code",
      "metadata": {},
      "source": [
        "function f_sum(n)\n",
        "    s = 0\n",
        "    for i in 1:n\n",
        "        s += i\n",
        "    end\n",
        "\n",
        "    s\n",
        "end;"
      ],
      "id": "9629d8d9",
      "execution_count": null,
      "outputs": []
    },
    {
      "cell_type": "markdown",
      "metadata": {},
      "source": [
        "In R, the language will obediently execute each iteration of the loop, as you demanded, and it will take forever. You are the boss.\n",
        "\n",
        "But in Julia, we have this curious phenomena:"
      ],
      "id": "a0d78b0a"
    },
    {
      "cell_type": "code",
      "metadata": {},
      "source": [
        "@time f_sum(100)"
      ],
      "id": "2dfdb954",
      "execution_count": null,
      "outputs": []
    },
    {
      "cell_type": "code",
      "metadata": {},
      "source": [
        "@time f_sum(100_000)"
      ],
      "id": "477e0c1f",
      "execution_count": null,
      "outputs": []
    },
    {
      "cell_type": "code",
      "metadata": {},
      "source": [
        "@time f_sum(100_000_000)"
      ],
      "id": "fb9361f1",
      "execution_count": null,
      "outputs": []
    },
    {
      "cell_type": "markdown",
      "metadata": {},
      "source": [
        "How is it possible that it took the same time to run 100 iterations and 100 million iterations? The magic is the compiler: it understood that what you are doing is the sum of the terms of an [arithmetic progression](https://en.wikipedia.org/wiki/Arithmetic_progression). The legend says that Gauss deduced the formula for its sum, and the compiler did the same for you. No need to be as smart as Gauss while using Julia.\n",
        "\n",
        "Julia is a [just-in-time (JIT) compiled language](https://docs.julialang.org/en/v1/#man-julia-compared-other-languages), which means that each function is compiled when you first execute it. The \"time to first compile\" was a problem in the past, but from Julia 1.8 onwards it is not a big deal. The compiler is your friend, and almost always you can trust him.\n",
        "\n",
        "\n",
        "## Multiple dispatch and type system\n",
        "\n",
        "A type system is a way to organize data types within an hierarchy. Think of it as mathematical sets: you have the real numbers, and inside it are the rationals, the integers, the naturals, etc. Each one of these types store data into memory in a different manner (integers can be stored more efficiently than arbitrary real numbers, for example). Julia has a really nice [type system](https://docs.julialang.org/en/v1/manual/types/). Let's see some examples to better understand it.\n",
        "\n",
        "Consider the `print` function in R. It is a *generic* function, which means that its behaviour depends on the class/type of its first argument. This can be seen when we look to its misterious source code:\n",
        "\n",
        "![The `print` function sourcecode.](images/print-code.png)\n",
        "\n",
        "which means that `print` will use several `methods` (implementations/pieces-of-code), one for each class/type. Actually, R just creates a different function for each class, with the pattern `{function}.{class}`: \n",
        "\n",
        "![Each method/implementation of the generic function `print`.](images/print-methods.png)\n",
        "\n",
        "In Julia, *every function is generic*. We can use the same function name and define different behaviours/implementations for each combination of classes/types of its arguments. We saw above the implementation of the `maximum` function in Julia for an arbitrary vector of numbers. But what if the vector is of a different kind, for which it is easier to determine its maximum?\n",
        "\n",
        "Take, for example, the object"
      ],
      "id": "8a4bc3f4"
    },
    {
      "cell_type": "code",
      "metadata": {},
      "source": [
        "x = 1:10"
      ],
      "id": "4472b065",
      "execution_count": null,
      "outputs": []
    },
    {
      "cell_type": "markdown",
      "metadata": {},
      "source": [
        "It is *not* a vector (to create a usual vector from 1 to 10, you type `[1:10;]`). Actually, its type is"
      ],
      "id": "ddf7bbcc"
    },
    {
      "cell_type": "code",
      "metadata": {},
      "source": [
        "typeof(x)"
      ],
      "id": "4d0ab689",
      "execution_count": null,
      "outputs": []
    },
    {
      "cell_type": "markdown",
      "metadata": {},
      "source": [
        "and its type hierarchy is"
      ],
      "id": "bcbd671e"
    },
    {
      "cell_type": "code",
      "metadata": {},
      "source": [
        "Base.show_supertypes(typeof(x))"
      ],
      "id": "e677f27f",
      "execution_count": null,
      "outputs": []
    },
    {
      "cell_type": "markdown",
      "metadata": {},
      "source": [
        "So `x` is a much simpler object than a vector: it is an increasing sequence of integer numbers, each 1 unity bigger than the previous one. It makes sense then that the `maximum` function can be defined much more simpler for an object of type `UnitRange{Int64}`: the biggest element is always the last.\n",
        "\n",
        "If you look at the sourcecode"
      ],
      "id": "2c8be092"
    },
    {
      "cell_type": "code",
      "metadata": {},
      "source": [
        "#| eval: false\n",
        "@edit maximum(1:10)"
      ],
      "id": "60fdf89c",
      "execution_count": null,
      "outputs": []
    },
    {
      "cell_type": "markdown",
      "metadata": {},
      "source": [
        "you will get"
      ],
      "id": "ae928ecd"
    },
    {
      "cell_type": "code",
      "metadata": {},
      "source": [
        "#| eval: false\n",
        "maximum(r::AbstractUnitRange) = isempty(r) ? throw(ArgumentError(\"range must be non-empty\")) : last(r)"
      ],
      "id": "f95e602e",
      "execution_count": null,
      "outputs": []
    },
    {
      "cell_type": "markdown",
      "metadata": {},
      "source": [
        "which is exactly what we thought: \n",
        "\n",
        "> is the range non-empty? Then take de last element; otherwise, an error.\n",
        "\n",
        "The function `last` is defined for every children of type `AbstractUnitRange`, and so `maximum` is well defined.\n",
        "\n",
        "In summary: Julia has an arbitrary `maximum` function for arbitrary vectors, but has specialized methods for some other specific types. This is a common pattern in Julia, and much of its performance depends on this. \n",
        "\n",
        "\n",
        "## Macros rewrite code without typing\n",
        "\n",
        "[Macros](https://docs.julialang.org/en/v1/manual/metaprogramming/) are one of the most powerful tools in Julia. They rewrite your code before executing it: it is a metaprogramming technique. When creating macros, you will have to understand how a bunch of characters are interpreted by the language and executed as code. This means that macros can rewrite pieces of code and add functionalities that are not possible simply with functions.\n",
        "\n",
        "We already used some macros on this notebook; they all start with the `@` symbol. \n",
        "\n",
        "How much time does it take to calculate the sin of a million numbers?"
      ],
      "id": "0fac6165"
    },
    {
      "cell_type": "code",
      "metadata": {},
      "source": [
        "@time sin.(1:1_000_000);"
      ],
      "id": "242ad1f3",
      "execution_count": null,
      "outputs": []
    },
    {
      "cell_type": "markdown",
      "metadata": {},
      "source": [
        "Do you have a loop and want to see a progress bar? No need to change the code inside the loop:"
      ],
      "id": "f8e0f787"
    },
    {
      "cell_type": "code",
      "metadata": {},
      "source": [
        "using ProgressMeter;\n",
        "\n",
        "@showprogress for i in 1:10\n",
        "    sleep(0.1)\n",
        "end"
      ],
      "id": "7b7770e3",
      "execution_count": null,
      "outputs": []
    },
    {
      "cell_type": "markdown",
      "metadata": {},
      "source": [
        "As we've seen, even the tidyverse could be recreated in Julia using macros!\n",
        "\n",
        "\n",
        "## Multithreading is trivial\n",
        "\n",
        "[Multithreading](https://docs.julialang.org/en/v1/manual/multi-threading/) (or parallel computing) is when your code uses more than one processor at the same time. Multithreading in R is a bit complicated and actually create copies of the R process that comunicates with the main process. There is a [`futureverse`](https://www.futureverse.org/packages-overview.html) to deal with that in R, and plans like `callr` or `multisession` to define how these extra R sessions will be created and mantained.\n",
        "\n",
        "In Julia, multithreading is as easy as appending a macro before a loop:"
      ],
      "id": "83f540fc"
    },
    {
      "cell_type": "code",
      "metadata": {},
      "source": [
        "#| eval: false\n",
        "Threads.@threads for i = 1:10\n",
        "    a[i] = Threads.threadid()\n",
        "end"
      ],
      "id": "e61d6640",
      "execution_count": null,
      "outputs": []
    },
    {
      "cell_type": "markdown",
      "metadata": {},
      "source": [
        "If you want a multithread version of `map` and `reduce` and so on, check [ThreadsX.jl](https://github.com/tkf/ThreadsX.jl).\n",
        "\n",
        "Multithread is recommended when you:\n",
        "- have some spare RAM;\n",
        "- have more than 1 processor;\n",
        "- want to apply some function on a list of things that take some time idling (for example, waiting for an API return something) or are not RAM-heavy (calculating small distance matrices).\n",
        "\n",
        "My tipical use case is when I have a large dataframe and want to apply a function to several parts of it, based on a grouping variable. I split the dataframe into a vector of dataframes (with `groupby` and `collect`) and then apply the function in parallel.\n",
        "\n",
        "Another use is the following: suppose you want to create an API to serve 5 simultaneous users requesting data all day. In R you will use [`plumber`](https://www.rplumber.io/) and make lots of `future_promise` calls. In Julia, just use [`Oxygen.jl`](https://oxygenframework.github.io/Oxygen.jl/stable/#Multithreading-and-Parallelism) without any need to change your code: the requests are made in parallel.\n",
        "\n",
        "## Packages are a joy to use\n",
        "\n",
        "In R, you have 2 options to call a function from another package:\n",
        "\n",
        "- use `library(PACKAGE)`, which imports *every* function from PACKAGE to your namespace;\n",
        "- use `PACKAGE::FUNCTION` every time you want to use a function.\n",
        "\n",
        "Packages like [`box`](https://klmr.me/box/) are a more \"Pythonesque\" approach to importing libraries, and allow to import just some parts of a package.\n",
        "\n",
        "In Julia, a package is just a module, and you have:\n",
        "\n",
        "- `using PACKAGE` is analogous to R `library(PACKAGE)`;\n",
        "- `import PACKAGE` and then `PACKAGE.FUNCTION` in every call;\n",
        "- `using PACKAGE: FUNCTION1, FUNCTION2` will import only these 2 functions from PACKAGE.\n",
        "\n",
        "The best part, however, is the ability to create modules inside modules. For example, if you have a mega package to do all your data analysis in your work, you can have a module about Reports, another one with APIs and so on. Importing then can be done with\n"
      ],
      "id": "aa98a669"
    },
    {
      "cell_type": "code",
      "metadata": {},
      "source": [
        "#| eval: false\n",
        "\n",
        "using MyPackage.Reports\n",
        "\n",
        "# or\n",
        "import MyPackage.APIs as API\n",
        "\n",
        "MD.api1()"
      ],
      "id": "e8f09605",
      "execution_count": null,
      "outputs": []
    },
    {
      "cell_type": "markdown",
      "metadata": {},
      "source": [
        "This approach resembles a little the idea of namespaces in [shiny modules](https://mastering-shiny.org/scaling-modules.html), and using `box` is how the [`rhino`](https://appsilon.github.io/rhino/articles/explanation/box-modules.html) emulate the \"module inside module\" thing.\n",
        "\n",
        "## Math symbols for the math enthusiasts\n",
        "\n",
        "Examples of correct Julia code:"
      ],
      "id": "62fef19f"
    },
    {
      "cell_type": "code",
      "metadata": {},
      "source": [
        "[1, 2] ∩ [2, 3]"
      ],
      "id": "89b32347",
      "execution_count": null,
      "outputs": []
    },
    {
      "cell_type": "code",
      "metadata": {},
      "source": [
        "2 ∈ [2, 3]"
      ],
      "id": "b2d61f7c",
      "execution_count": null,
      "outputs": []
    },
    {
      "cell_type": "code",
      "metadata": {},
      "source": [
        "f(r) = π*r^2\n",
        "\n",
        "f(3)"
      ],
      "id": "a3fa01f6",
      "execution_count": null,
      "outputs": []
    },
    {
      "cell_type": "code",
      "metadata": {},
      "source": [
        "# Euler's identity\n",
        "ℯ^(im * π) + 1 |> round"
      ],
      "id": "e6341b3a",
      "execution_count": null,
      "outputs": []
    },
    {
      "cell_type": "markdown",
      "metadata": {},
      "source": [
        "---\n",
        "\n",
        "## Summing up: Where to now?\n",
        "\n",
        "If I convinced you or sparked just a little interest, you can start your own journey in Julialand with the suggested steps:\n",
        "\n",
        "1. [Modern Julia Workflows](https://modernjuliaworkflows.org): install Julia, setup your IDE and learn the basics of how to run code.\n",
        "2. [The Julia docs](https://docs.julialang.org/en/v1/manual/getting-started/) are excellent: need to understand more about [variables](https://docs.julialang.org/en/v1/manual/variables/)? What about the [scope of functions](https://docs.julialang.org/en/v1/manual/functions/)? [Types](https://docs.julialang.org/en/v1/manual/types/) is certainly worth a read!\n",
        "3. [Think Julia](https://benlauwens.github.io/ThinkJulia.jl/latest/book.html), by Be Lauwens and Allen Doeney: similar to Think Python, but better!\n",
        "4. Questions? Go to the [Julia Discourse](https://discourse.julialang.org/).\n",
        "5. For a list of really nice packages, see [this repo](https://gensjulia.pages.dev/data-science/#general-purpose).\n",
        "\n",
        "Have a good trip!"
      ],
      "id": "fd03af9d"
    }
  ],
  "metadata": {
    "kernelspec": {
      "name": "julia-1.10",
      "language": "julia",
      "display_name": "Julia 1.10.9",
      "path": "/home/vituri/.local/share/jupyter/kernels/julia-1.10"
    }
  },
  "nbformat": 4,
  "nbformat_minor": 5
}