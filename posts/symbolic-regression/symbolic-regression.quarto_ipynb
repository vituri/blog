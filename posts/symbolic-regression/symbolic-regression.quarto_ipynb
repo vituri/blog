{
  "cells": [
    {
      "cell_type": "markdown",
      "metadata": {},
      "source": [
        "---\n",
        "title: \"Symbolic Regression in Julia\"\n",
        "date: 2024-03-14\n",
        "format: \n",
        "    html: default\n",
        "categories:\n",
        "  - julia\n",
        "  - ML\n",
        "---\n",
        "\n",
        "![](cover.png)\n",
        "\n",
        "\n",
        "## What is it?\n",
        "\n",
        "A linear regression finds the line that is \"closest\" to a dataset. In a similar maner, a symbolic regression is an algorithm that find a combination of symbols that minimizes the mean square error of a given dataset. These symbols are unary and binary operators like the + symbol or a function like $cos$ and $1/x$.\n",
        "\n",
        "## Example 1\n",
        "\n",
        "Let's try to approximate the function $f(x) = - x^2 + 1$ using the symbols and $+, -, *$ combined with the variable $x$. "
      ],
      "id": "4e7665a6"
    },
    {
      "cell_type": "code",
      "metadata": {},
      "source": [
        "# import Pkg; \n",
        "# Pkg.add([\"SymbolicRegression\", \"MLJ\", \"SymbolicUtils\", \"Plots\"])"
      ],
      "id": "f0c7fe28",
      "execution_count": null,
      "outputs": []
    },
    {
      "cell_type": "code",
      "metadata": {},
      "source": [
        "using SymbolicRegression, MLJ, SymbolicUtils\n",
        "using Plots\n",
        "\n",
        "x = [-3:0.1:3;]\n",
        "y = @. - x^2 + 1;\n",
        "\n",
        "scatter(x, y)"
      ],
      "id": "0979cd55",
      "execution_count": null,
      "outputs": []
    },
    {
      "cell_type": "markdown",
      "metadata": {},
      "source": [
        "First we define a model"
      ],
      "id": "a2bfbfb2"
    },
    {
      "cell_type": "code",
      "metadata": {},
      "source": [
        "model = SRRegressor(\n",
        "    binary_operators=[+, -, *],    \n",
        "    niterations=50,\n",
        "    seed = 1\n",
        ");"
      ],
      "id": "64026a94",
      "execution_count": null,
      "outputs": []
    },
    {
      "cell_type": "markdown",
      "metadata": {},
      "source": [
        "(Note: the argument `seed = 1` is needed to ensure that the result is the same when this Quarto document compiles; you don't need it.)\n",
        "\n",
        "And then fit it to our dataset"
      ],
      "id": "85d5ab63"
    },
    {
      "cell_type": "code",
      "metadata": {},
      "source": [
        "#| output: false\n",
        "X = reshape(x, (length(x), 1))\n",
        "\n",
        "mach = machine(model, X, y)\n",
        "fit!(mach)"
      ],
      "id": "a318155e",
      "execution_count": null,
      "outputs": []
    },
    {
      "cell_type": "markdown",
      "metadata": {},
      "source": [
        "We can see a report about the results:"
      ],
      "id": "af793320"
    },
    {
      "cell_type": "code",
      "metadata": {},
      "source": [
        "r = report(mach);\n",
        "\n",
        "r"
      ],
      "id": "71494282",
      "execution_count": null,
      "outputs": []
    },
    {
      "cell_type": "markdown",
      "metadata": {},
      "source": [
        "This report contains the losses"
      ],
      "id": "65cf42a7"
    },
    {
      "cell_type": "code",
      "metadata": {},
      "source": [
        "r.losses"
      ],
      "id": "6a13a513",
      "execution_count": null,
      "outputs": []
    },
    {
      "cell_type": "markdown",
      "metadata": {},
      "source": [
        "the equations"
      ],
      "id": "9cb8c8b1"
    },
    {
      "cell_type": "code",
      "metadata": {},
      "source": [
        "r.equations"
      ],
      "id": "27825326",
      "execution_count": null,
      "outputs": []
    },
    {
      "cell_type": "markdown",
      "metadata": {},
      "source": [
        "and the best one of the functions found (ie. the one with the least loss):"
      ],
      "id": "6893f8be"
    },
    {
      "cell_type": "code",
      "metadata": {},
      "source": [
        "node_to_symbolic(r.equations[r.best_idx], model)"
      ],
      "id": "e3aa010f",
      "execution_count": null,
      "outputs": []
    },
    {
      "cell_type": "markdown",
      "metadata": {},
      "source": [
        "Here, we can read $x_1$ as $x$, because we only have one variable.\n",
        "\n",
        "Notice that this expression simplifies to our original $f$.\n",
        "\n",
        "## Example 2\n",
        "\n",
        "Now let's get a more interesting example. Take $f(x) = x^2 + 2cos(x)^2$:"
      ],
      "id": "114beded"
    },
    {
      "cell_type": "code",
      "metadata": {},
      "source": [
        "y = @. x^2 + 2cos(x)^2 \n",
        "\n",
        "scatter(x, y)"
      ],
      "id": "1214a266",
      "execution_count": null,
      "outputs": []
    },
    {
      "cell_type": "markdown",
      "metadata": {},
      "source": [
        "We again create a model and fit it, but now we allow more operations: besides the earlier binary functions, we also have the unary `cos` function:"
      ],
      "id": "9fb74724"
    },
    {
      "cell_type": "code",
      "metadata": {},
      "source": [
        "#| output: false\n",
        "\n",
        "model = SRRegressor(\n",
        "    binary_operators = [+, -, *],    \n",
        "    unary_operators = [cos],\n",
        "    niterations=50,\n",
        "    seed = 1\n",
        ");\n",
        "\n",
        "mach = machine(model, X, y)\n",
        "fit!(mach)"
      ],
      "id": "c54ef45f",
      "execution_count": null,
      "outputs": []
    },
    {
      "cell_type": "markdown",
      "metadata": {},
      "source": [
        "and see the best equation:"
      ],
      "id": "5d2dd1bc"
    },
    {
      "cell_type": "code",
      "metadata": {},
      "source": [
        "r = report(mach)\n",
        "node_to_symbolic(r.equations[r.best_idx], model)"
      ],
      "id": "41964f9c",
      "execution_count": null,
      "outputs": []
    },
    {
      "cell_type": "markdown",
      "metadata": {},
      "source": [
        "So, we got\n",
        "\n",
        "$$\n",
        "x * x + cos(x + x) - (-1) = x^2 + cos(2x) + 1\n",
        "$$\n",
        "\n",
        "Since $cos(2x) + 1 = 2cos^2(x)$, we retrieve the original function.\n",
        "\n",
        "## Example 3\n",
        "\n",
        "Even after adding some noise to the original dataset, the symbolic regression still can find a very good approximation:\n",
        "\n",
        "Take $f(x) = 0.3 * x^3 - x^2 + 2cos(x) + \\epsilon(x)$ where $\\epsilon(x)$ is a random uniform error (varying in $[0, 1]$) like this:"
      ],
      "id": "b9743266"
    },
    {
      "cell_type": "code",
      "metadata": {},
      "source": [
        "x = [-5:0.1:5;]\n",
        "X = reshape(x, (length(x), 1))\n",
        "errors = rand(length(x))\n",
        "y = @. 0.3*x^3 - x^2 + 2cos(x) + errors\n",
        "\n",
        "scatter(x, y)"
      ],
      "id": "51746cb1",
      "execution_count": null,
      "outputs": []
    },
    {
      "cell_type": "code",
      "metadata": {},
      "source": [
        "#| output: false\n",
        "model = SRRegressor(\n",
        "    binary_operators = [+, -, *],    \n",
        "    unary_operators = [cos],\n",
        "    niterations=60,\n",
        "    seed = 1\n",
        ");\n",
        "\n",
        "mach = machine(model, X, y)\n",
        "fit!(mach)"
      ],
      "id": "7652d794",
      "execution_count": null,
      "outputs": []
    },
    {
      "cell_type": "markdown",
      "metadata": {},
      "source": [
        "and see the best equation:"
      ],
      "id": "d12b5674"
    },
    {
      "cell_type": "code",
      "metadata": {},
      "source": [
        "r = report(mach)\n",
        "node_to_symbolic(r.equations[r.best_idx], model)"
      ],
      "id": "0e955c4d",
      "execution_count": null,
      "outputs": []
    },
    {
      "cell_type": "markdown",
      "metadata": {},
      "source": [
        "We can plot the prediction and the original dataset to compare them:"
      ],
      "id": "46bd7f76"
    },
    {
      "cell_type": "code",
      "metadata": {},
      "source": [
        "y_pred = predict(mach, X)\n",
        " \n",
        "scatter(x, y);\n",
        "scatter!(x, y_pred, color = \"red\")"
      ],
      "id": "6891d114",
      "execution_count": null,
      "outputs": []
    },
    {
      "cell_type": "markdown",
      "metadata": {},
      "source": [
        "Not bad at all!\n",
        "\n",
        "You can see more about this package in [this link](https://astroautomata.com/SymbolicRegression.jl/dev/examples/). If you have enough courage, read the [original paper](https://arxiv.org/abs/2305.01582) on arxiv!"
      ],
      "id": "9eae1ebf"
    }
  ],
  "metadata": {
    "kernelspec": {
      "name": "julia-1.10",
      "language": "julia",
      "display_name": "Julia 1.10.9",
      "path": "/home/vituri/.local/share/jupyter/kernels/julia-1.10"
    }
  },
  "nbformat": 4,
  "nbformat_minor": 5
}